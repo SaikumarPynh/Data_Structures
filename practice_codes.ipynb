{
 "cells": [
  {
   "cell_type": "code",
   "execution_count": 5,
   "id": "35e77416",
   "metadata": {},
   "outputs": [
    {
     "name": "stdout",
     "output_type": "stream",
     "text": [
      "0\n",
      "1\n",
      "1\n",
      "2\n",
      "3\n",
      "5\n",
      "8\n",
      "13\n",
      "21\n",
      "34\n"
     ]
    }
   ],
   "source": [
    "#fibonacci series uptp n terms\n",
    "def fibonacci(n):\n",
    "    a, b = 0,1\n",
    "    if n == 1:\n",
    "        return 0\n",
    "    elif n == 2:\n",
    "        return 0,1\n",
    "    elif n >2:\n",
    "        for i in range(n):\n",
    "            c = a + b\n",
    "            print(a)\n",
    "            a, b = b,c\n",
    "fibonacci(10)\n",
    "            "
   ]
  },
  {
   "cell_type": "code",
   "execution_count": null,
   "id": "bd104d79",
   "metadata": {},
   "outputs": [],
   "source": [
    "#Factorial of a number d\n",
    "def fact(n):\n",
    "    if n == 0:\n",
    "        return 1\n",
    "    elif n > 0:\n",
    "        return fact(n-1) * n\n",
    "c = fact(3)\n",
    "c"
   ]
  },
  {
   "cell_type": "code",
   "execution_count": 22,
   "id": "e4517352",
   "metadata": {},
   "outputs": [
    {
     "data": {
      "text/plain": [
       "(4, 2)"
      ]
     },
     "execution_count": 22,
     "metadata": {},
     "output_type": "execute_result"
    }
   ],
   "source": [
    "#Binery search algorithm \n",
    "def BinerySearch(arr,i,j,ele):\n",
    "    if j >= i:\n",
    "        mid = (i + j) // 2\n",
    "        if ele == arr[mid]:\n",
    "            return arr[mid],mid\n",
    "        else:\n",
    "            if ele < arr[mid]:\n",
    "                return BinerySearch(arr,i,mid-1,ele)\n",
    "            else:\n",
    "                return BinerySearch(arr,mid+1,j,ele)\n",
    "    else:\n",
    "        return False\n",
    "a = [2,3,4,5,7,9,11,23]\n",
    "c = BinerySearch(a,0,len(a)-1,4)\n",
    "c"
   ]
  },
  {
   "cell_type": "code",
   "execution_count": 26,
   "id": "87d9683b",
   "metadata": {},
   "outputs": [
    {
     "data": {
      "text/plain": [
       "5"
      ]
     },
     "execution_count": 26,
     "metadata": {},
     "output_type": "execute_result"
    }
   ],
   "source": [
    "#finding the first occurence of an item in an array(usinglist)\n",
    "def BinerySearch(arr,i,j,ele):\n",
    "    if j >= i:\n",
    "        mid = (i + j) // 2\n",
    "        if arr[mid] == ele:\n",
    "            if arr[mid-1] == ele:\n",
    "                return BinerySearch(arr,i,mid-1,ele)\n",
    "            else:\n",
    "                return mid\n",
    "                \n",
    "        else:\n",
    "            return BinerySearch(arr,mid+1,j,ele)\n",
    "\n",
    "\n",
    "\n",
    "\n",
    "a = [2,11,23,-4,-22,\"i\",\"i\",\"i\",\"i\"]\n",
    "c = BinerySearch(a,0,len(a)-1,\"i\")\n",
    "c"
   ]
  },
  {
   "cell_type": "code",
   "execution_count": 29,
   "id": "d1e4e6ae",
   "metadata": {},
   "outputs": [
    {
     "data": {
      "text/plain": [
       "[1, 2, 3, 5, 7]"
      ]
     },
     "execution_count": 29,
     "metadata": {},
     "output_type": "execute_result"
    }
   ],
   "source": [
    "#bubble sort\n",
    "#it will always places the largest element in the end of the list\n",
    "#nth large ele in the nth pos from right\n",
    "\n",
    "def BubbleSort(arr):\n",
    "    n = len(arr)\n",
    "    for i in range(n):# for decreasing the size of the unsorted array\n",
    "        for j in range(n-i-1):#for iterating throught the array\n",
    "            if arr[j] > arr[j + 1]:\n",
    "                arr[j],arr[j + 1] = arr[j + 1],arr[j]\n",
    "    return arr\n",
    "a = [3,2,5,7,1]\n",
    "c = BubbleSort(a)\n",
    "c"
   ]
  },
  {
   "cell_type": "code",
   "execution_count": 34,
   "id": "687ad66a",
   "metadata": {},
   "outputs": [
    {
     "data": {
      "text/plain": [
       "[1, 2, 3, 5, 7]"
      ]
     },
     "execution_count": 34,
     "metadata": {},
     "output_type": "execute_result"
    }
   ],
   "source": [
    "#selection sort\n",
    "#at each iteration it always puts the nth smallest element in its correct position\n",
    "# each iteration number of swaps is exactly equal to 1 or 0 unlike bubble sort its 0 or more\n",
    "def SelectionSort(arr):\n",
    "    n = len(arr)\n",
    "    for i in range(n):\n",
    "        min_index = i\n",
    "        for j in range(i + 1,n):\n",
    "            if arr[min_index]  > arr[j]:\n",
    "                min_index = j\n",
    "        arr[min_index],arr[i] = arr[i],arr[min_index] # for every ith iteration only one swap ith element with min element\n",
    "    return arr\n",
    "a = [3,2,5,7,1]\n",
    "c = SelectionSort(a)\n",
    "c"
   ]
  },
  {
   "cell_type": "code",
   "execution_count": null,
   "id": "83c7b54d",
   "metadata": {},
   "outputs": [],
   "source": []
  }
 ],
 "metadata": {
  "kernelspec": {
   "display_name": "Python 3 (ipykernel)",
   "language": "python",
   "name": "python3"
  },
  "language_info": {
   "codemirror_mode": {
    "name": "ipython",
    "version": 3
   },
   "file_extension": ".py",
   "mimetype": "text/x-python",
   "name": "python",
   "nbconvert_exporter": "python",
   "pygments_lexer": "ipython3",
   "version": "3.10.12"
  }
 },
 "nbformat": 4,
 "nbformat_minor": 5
}
