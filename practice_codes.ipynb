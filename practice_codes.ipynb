{
 "cells": [
  {
   "cell_type": "code",
   "execution_count": 5,
   "id": "2f1d8180",
   "metadata": {},
   "outputs": [
    {
     "name": "stdout",
     "output_type": "stream",
     "text": [
      "0\n",
      "1\n",
      "1\n",
      "2\n",
      "3\n",
      "5\n",
      "8\n",
      "13\n",
      "21\n",
      "34\n"
     ]
    }
   ],
   "source": [
    "#fibonacci series uptp n terms\n",
    "def fibonacci(n):\n",
    "    a, b = 0,1\n",
    "    if n == 1:\n",
    "        return 0\n",
    "    elif n == 2:\n",
    "        return 0,1\n",
    "    elif n >2:\n",
    "        for i in range(n):\n",
    "            c = a + b\n",
    "            print(a)\n",
    "            a, b = b,c\n",
    "fibonacci(10)\n",
    "            "
   ]
  },
  {
   "cell_type": "code",
   "execution_count": null,
   "id": "842656f6",
   "metadata": {},
   "outputs": [],
   "source": [
    "#Factorial of a number d\n",
    "def fact(n):\n",
    "    if n == 0:\n",
    "        return 1\n",
    "    elif n > 0:\n",
    "        return fact(n-1) * n\n",
    "c = fact(3)\n",
    "c"
   ]
  },
  {
   "cell_type": "code",
   "execution_count": 19,
   "id": "33e3338d",
   "metadata": {},
   "outputs": [
    {
     "name": "stdout",
     "output_type": "stream",
     "text": [
      "0 7\n",
      "4 7\n",
      "6 7\n",
      "7 7\n"
     ]
    },
    {
     "data": {
      "text/plain": [
       "False"
      ]
     },
     "execution_count": 19,
     "metadata": {},
     "output_type": "execute_result"
    }
   ],
   "source": [
    "#Binery search algorithm \n",
    "def BinerySearch(arr,i,j,ele):\n",
    "    if j >= i:\n",
    "        print(i,j)\n",
    "        \n",
    "        mid = (i + j) // 2\n",
    "        if ele == arr[mid]:\n",
    "            return arr[mid]\n",
    "        else:\n",
    "            if ele > arr[mid]:\n",
    "                return BinerySearch(arr,i,mid-1,ele)\n",
    "            else:\n",
    "                return BinerySearch(arr,mid+1,j,ele)\n",
    "    else:\n",
    "        return False\n",
    "a = [2,3,4,5,7,9,11,23]\n",
    "c = BinerySearch(a,0,len(a)-1,4)\n",
    "c"
   ]
  },
  {
   "cell_type": "code",
   "execution_count": null,
   "id": "0e91b315",
   "metadata": {},
   "outputs": [],
   "source": []
  }
 ],
 "metadata": {
  "kernelspec": {
   "display_name": "Python 3 (ipykernel)",
   "language": "python",
   "name": "python3"
  },
  "language_info": {
   "codemirror_mode": {
    "name": "ipython",
    "version": 3
   },
   "file_extension": ".py",
   "mimetype": "text/x-python",
   "name": "python",
   "nbconvert_exporter": "python",
   "pygments_lexer": "ipython3",
   "version": "3.10.12"
  }
 },
 "nbformat": 4,
 "nbformat_minor": 5
}
