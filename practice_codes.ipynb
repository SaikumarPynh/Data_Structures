{
 "cells": [
  {
   "cell_type": "code",
   "execution_count": 5,
   "id": "4d55734a",
   "metadata": {},
   "outputs": [
    {
     "name": "stdout",
     "output_type": "stream",
     "text": [
      "0\n",
      "1\n",
      "1\n",
      "2\n",
      "3\n",
      "5\n",
      "8\n",
      "13\n",
      "21\n",
      "34\n"
     ]
    }
   ],
   "source": [
    "#fibonacci series uptp n terms\n",
    "def fibonacci(n):\n",
    "    a, b = 0,1\n",
    "    if n == 1:\n",
    "        return 0\n",
    "    elif n == 2:\n",
    "        return 0,1\n",
    "    elif n >2:\n",
    "        for i in range(n):\n",
    "            c = a + b\n",
    "            print(a)\n",
    "            a, b = b,c\n",
    "fibonacci(10)\n",
    "            "
   ]
  },
  {
   "cell_type": "code",
   "execution_count": null,
   "id": "d992c4cf",
   "metadata": {},
   "outputs": [],
   "source": [
    "#Factorial of a number d\n",
    "def fact(n):\n",
    "    if n == 0:\n",
    "        return 1\n",
    "    elif n > 0:\n",
    "        return fact(n-1) * n\n",
    "c = fact(3)\n",
    "c"
   ]
  },
  {
   "cell_type": "code",
   "execution_count": 22,
   "id": "f196c9de",
   "metadata": {},
   "outputs": [
    {
     "data": {
      "text/plain": [
       "(4, 2)"
      ]
     },
     "execution_count": 22,
     "metadata": {},
     "output_type": "execute_result"
    }
   ],
   "source": [
    "#Binery search algorithm \n",
    "def BinerySearch(arr,i,j,ele):\n",
    "    if j >= i:\n",
    "        mid = (i + j) // 2\n",
    "        if ele == arr[mid]:\n",
    "            return arr[mid],mid\n",
    "        else:\n",
    "            if ele < arr[mid]:\n",
    "                return BinerySearch(arr,i,mid-1,ele)\n",
    "            else:\n",
    "                return BinerySearch(arr,mid+1,j,ele)\n",
    "    else:\n",
    "        return False\n",
    "a = [2,3,4,5,7,9,11,23]\n",
    "c = BinerySearch(a,0,len(a)-1,4)\n",
    "c"
   ]
  },
  {
   "cell_type": "code",
   "execution_count": 26,
   "id": "d90a213b",
   "metadata": {},
   "outputs": [
    {
     "data": {
      "text/plain": [
       "5"
      ]
     },
     "execution_count": 26,
     "metadata": {},
     "output_type": "execute_result"
    }
   ],
   "source": [
    "#finding the first occurence of an item in an array(usinglist)\n",
    "def BinerySearch(arr,i,j,ele):\n",
    "    if j >= i:\n",
    "        mid = (i + j) // 2\n",
    "        if arr[mid] == ele:\n",
    "            if arr[mid-1] == ele:\n",
    "                return BinerySearch(arr,i,mid-1,ele)\n",
    "            else:\n",
    "                return mid\n",
    "                \n",
    "        else:\n",
    "            return BinerySearch(arr,mid+1,j,ele)\n",
    "\n",
    "\n",
    "\n",
    "\n",
    "a = [2,11,23,-4,-22,\"i\",\"i\",\"i\",\"i\"]\n",
    "c = BinerySearch(a,0,len(a)-1,\"i\")\n",
    "c"
   ]
  },
  {
   "cell_type": "code",
   "execution_count": null,
   "id": "82cbede7",
   "metadata": {},
   "outputs": [],
   "source": []
  }
 ],
 "metadata": {
  "kernelspec": {
   "display_name": "Python 3 (ipykernel)",
   "language": "python",
   "name": "python3"
  },
  "language_info": {
   "codemirror_mode": {
    "name": "ipython",
    "version": 3
   },
   "file_extension": ".py",
   "mimetype": "text/x-python",
   "name": "python",
   "nbconvert_exporter": "python",
   "pygments_lexer": "ipython3",
   "version": "3.10.12"
  }
 },
 "nbformat": 4,
 "nbformat_minor": 5
}
